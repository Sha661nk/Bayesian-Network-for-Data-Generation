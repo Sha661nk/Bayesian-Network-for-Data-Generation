{
 "cells": [
  {
   "attachments": {},
   "cell_type": "markdown",
   "id": "8d44f5ad",
   "metadata": {},
   "source": [
    "# Impementing Baynesian Network for Hott Partitions"
   ]
  },
  {
   "cell_type": "code",
   "execution_count": 1,
   "id": "6b7625c9",
   "metadata": {},
   "outputs": [],
   "source": [
    "path = r'----path to data----'"
   ]
  },
  {
   "cell_type": "code",
   "execution_count": 4,
   "id": "cc35c319",
   "metadata": {},
   "outputs": [
    {
     "name": "stdout",
     "output_type": "stream",
     "text": [
      "now running Bayesian for pattern : 0\n"
     ]
    },
    {
     "data": {
      "application/vnd.jupyter.widget-view+json": {
       "model_id": "379506be841f44d490a82493b7d41238",
       "version_major": 2,
       "version_minor": 0
      },
      "text/plain": [
       "  0%|          | 0/2 [00:00<?, ?it/s]"
      ]
     },
     "metadata": {},
     "output_type": "display_data"
    },
    {
     "name": "stdout",
     "output_type": "stream",
     "text": [
      "now running Bayesian for pattern : 1\n"
     ]
    },
    {
     "data": {
      "application/vnd.jupyter.widget-view+json": {
       "model_id": "c77481174fd541d788837422c56cc301",
       "version_major": 2,
       "version_minor": 0
      },
      "text/plain": [
       "  0%|          | 0/3 [00:00<?, ?it/s]"
      ]
     },
     "metadata": {},
     "output_type": "display_data"
    },
    {
     "name": "stdout",
     "output_type": "stream",
     "text": [
      "now running Bayesian for pattern : 2\n"
     ]
    },
    {
     "data": {
      "application/vnd.jupyter.widget-view+json": {
       "model_id": "99710669bc8a4aa794452fb6ba200734",
       "version_major": 2,
       "version_minor": 0
      },
      "text/plain": [
       "  0%|          | 0/4 [00:00<?, ?it/s]"
      ]
     },
     "metadata": {},
     "output_type": "display_data"
    },
    {
     "name": "stdout",
     "output_type": "stream",
     "text": [
      "now running Bayesian for pattern : 3\n"
     ]
    },
    {
     "data": {
      "application/vnd.jupyter.widget-view+json": {
       "model_id": "6da501469c6d4ec583369576236938e5",
       "version_major": 2,
       "version_minor": 0
      },
      "text/plain": [
       "  0%|          | 0/5 [00:00<?, ?it/s]"
      ]
     },
     "metadata": {},
     "output_type": "display_data"
    },
    {
     "name": "stdout",
     "output_type": "stream",
     "text": [
      "now running Bayesian for pattern : 4\n"
     ]
    },
    {
     "data": {
      "application/vnd.jupyter.widget-view+json": {
       "model_id": "4d7e2b9e7dc3470285c8f2e32f88a435",
       "version_major": 2,
       "version_minor": 0
      },
      "text/plain": [
       "  0%|          | 0/6 [00:00<?, ?it/s]"
      ]
     },
     "metadata": {},
     "output_type": "display_data"
    },
    {
     "name": "stdout",
     "output_type": "stream",
     "text": [
      "--- Execution Time for Hott-Bayesian Network: 71.30917477607727 seconds ---\n"
     ]
    }
   ],
   "source": [
    "import os\n",
    "import time\n",
    "import random\n",
    "import pickle\n",
    "import numpy as np\n",
    "import pandas as pd\n",
    "from pgmpy.models import BayesianNetwork\n",
    "from pgmpy.estimators import BayesianEstimator\n",
    "from pgmpy.models import BayesianModel\n",
    "from pgmpy.sampling import BayesianModelSampling\n",
    "\n",
    "start_time = time.time()\n",
    "\n",
    "# Suppressing unnecessary warnings\n",
    "import warnings\n",
    "warnings.filterwarnings(\"ignore\")\n",
    "\n",
    "synthetic_partitions = []\n",
    "\n",
    "class hottbayesian_net(object):\n",
    "    \n",
    "    def __init__(self, subpaths, sample_path, seed=None):\n",
    "        self.subpaths = subpaths\n",
    "        self.sample_path = sample_path\n",
    "        self.seed = None\n",
    "        \"\"\"\n",
    "        parameters: dict\n",
    "            {'discrete': list of index for discrete features in one MP,\n",
    "             'epochs': number of epochs}\n",
    "        subpaths: list of MPs\n",
    "        sample_path = path to save and load data\n",
    "        seed: set seed\n",
    "        \"\"\"\n",
    "        \n",
    "    def bayesian_net(self, data, no):\n",
    "        \n",
    "        # Initialize Model\n",
    "        model = BayesianNetwork()\n",
    "        \n",
    "        # Defining Network\n",
    "        for col in data.columns:\n",
    "            model.add_node(col) # Adding nodes\n",
    "        for i in range(len(data.columns)-1):\n",
    "            model.add_edge(data.columns[i], data.columns[i+1]) # Adding edges\n",
    "        \n",
    "        # Defining Estimator\n",
    "        estimator = BayesianEstimator(model, data) \n",
    "        \n",
    "        # Fitting the Model\n",
    "        model.fit(data)\n",
    "        \n",
    "        # Generating Synthetic Data\n",
    "        sampler = BayesianModelSampling(model)\n",
    "        synthetic_data = sampler.forward_sample(len(data))\n",
    "        \n",
    "        return synthetic_data\n",
    "    \n",
    "    def bayesian_net_fit(self):\n",
    "        \"\"\"\n",
    "        Start the training and data generation\n",
    "        \"\"\"\n",
    "        \n",
    "        if self.seed:\n",
    "            random.seed(self.seed) # replicable\n",
    "            np.random.seed(self.seed)\n",
    "            \n",
    "        # Iterating over paths to input data, also marking index for files\n",
    "        for index, sub_path in enumerate(self.subpaths):\n",
    "            \n",
    "            # Joining path to load the hott-partitions\n",
    "            path = self.sample_path + '\\\\'+ sub_path + '.csv' \n",
    "            \n",
    "            # Loading data\n",
    "            data = pd.read_csv(path) \n",
    "            \n",
    "            data.drop('ind', axis=1, inplace=True)\n",
    "            \n",
    "            print('now running Bayesian for pattern :', index) # index corresponds to pattern here\n",
    "\n",
    "            dataX_hat = self.bayesian_net(data, data.shape[0]) # Generating Synthetic Data\n",
    "            \n",
    "            synthetic_partitions.append(dataX_hat)\n",
    "            \n",
    "            wd = self.sample_path + '//samples//hottbayesian//' + sub_path + '//' # Saving data to given path\n",
    "            if not os.path.isdir(wd): # If directory is not existing, create one\n",
    "                os.makedirs(wd)\n",
    "            with open(wd + sub_path + '.pk', 'wb') as f: # Pickle the file\n",
    "                pickle.dump(file=f, obj=dataX_hat) \n",
    "                \n",
    "#------------------ Execution---------------------\n",
    "subpaths = ['sub1', 'sub2', 'sub3', 'sub4', 'sub5']\n",
    "sample_path = path\n",
    "my_bn = hottbayesian_net(subpaths, sample_path, seed=1)\n",
    "\n",
    "my_bn.bayesian_net_fit()\n",
    "\n",
    "print(\"--- Execution Time for Hott-Bayesian Network: %s seconds ---\" % (time.time() - start_time))"
   ]
  },
  {
   "cell_type": "code",
   "execution_count": 5,
   "id": "26af03c2",
   "metadata": {},
   "outputs": [
    {
     "data": {
      "text/html": [
       "<div>\n",
       "<style scoped>\n",
       "    .dataframe tbody tr th:only-of-type {\n",
       "        vertical-align: middle;\n",
       "    }\n",
       "\n",
       "    .dataframe tbody tr th {\n",
       "        vertical-align: top;\n",
       "    }\n",
       "\n",
       "    .dataframe thead th {\n",
       "        text-align: right;\n",
       "    }\n",
       "</style>\n",
       "<table border=\"1\" class=\"dataframe\">\n",
       "  <thead>\n",
       "    <tr style=\"text-align: right;\">\n",
       "      <th></th>\n",
       "      <th>0</th>\n",
       "      <th>1</th>\n",
       "    </tr>\n",
       "  </thead>\n",
       "  <tbody>\n",
       "    <tr>\n",
       "      <th>0</th>\n",
       "      <td>-28.631023</td>\n",
       "      <td>-87.150273</td>\n",
       "    </tr>\n",
       "    <tr>\n",
       "      <th>1</th>\n",
       "      <td>-141.275976</td>\n",
       "      <td>2.768324</td>\n",
       "    </tr>\n",
       "    <tr>\n",
       "      <th>2</th>\n",
       "      <td>-137.786146</td>\n",
       "      <td>-93.480310</td>\n",
       "    </tr>\n",
       "    <tr>\n",
       "      <th>3</th>\n",
       "      <td>-15.881477</td>\n",
       "      <td>-72.851100</td>\n",
       "    </tr>\n",
       "    <tr>\n",
       "      <th>4</th>\n",
       "      <td>-110.943941</td>\n",
       "      <td>-103.660544</td>\n",
       "    </tr>\n",
       "  </tbody>\n",
       "</table>\n",
       "</div>"
      ],
      "text/plain": [
       "            0           1\n",
       "0  -28.631023  -87.150273\n",
       "1 -141.275976    2.768324\n",
       "2 -137.786146  -93.480310\n",
       "3  -15.881477  -72.851100\n",
       "4 -110.943941 -103.660544"
      ]
     },
     "execution_count": 5,
     "metadata": {},
     "output_type": "execute_result"
    }
   ],
   "source": [
    "synthetic_partitions[0].head()"
   ]
  }
 ],
 "metadata": {
  "kernelspec": {
   "display_name": "Python 3 (ipykernel)",
   "language": "python",
   "name": "python3"
  },
  "language_info": {
   "codemirror_mode": {
    "name": "ipython",
    "version": 3
   },
   "file_extension": ".py",
   "mimetype": "text/x-python",
   "name": "python",
   "nbconvert_exporter": "python",
   "pygments_lexer": "ipython3",
   "version": "3.9.12"
  }
 },
 "nbformat": 4,
 "nbformat_minor": 5
}
